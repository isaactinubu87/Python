{
 "cells": [
  {
   "cell_type": "code",
   "execution_count": 1,
   "metadata": {},
   "outputs": [
    {
     "ename": "NameError",
     "evalue": "name 'getcwd' is not defined",
     "output_type": "error",
     "traceback": [
      "\u001b[1;31m---------------------------------------------------------------------------\u001b[0m",
      "\u001b[1;31mNameError\u001b[0m                                 Traceback (most recent call last)",
      "\u001b[1;32m<ipython-input-1-c8148570624d>\u001b[0m in \u001b[0;36m<module>\u001b[1;34m\u001b[0m\n\u001b[0;32m      1\u001b[0m \u001b[1;32mimport\u001b[0m \u001b[0mos\u001b[0m\u001b[1;33m\u001b[0m\u001b[1;33m\u001b[0m\u001b[0m\n\u001b[1;32m----> 2\u001b[1;33m \u001b[0mgetcwd\u001b[0m\u001b[1;33m(\u001b[0m\u001b[1;33m)\u001b[0m\u001b[1;33m\u001b[0m\u001b[1;33m\u001b[0m\u001b[0m\n\u001b[0m\u001b[0;32m      3\u001b[0m \u001b[0mos\u001b[0m\u001b[1;33m.\u001b[0m\u001b[0mgetcwd\u001b[0m\u001b[1;33m\u001b[0m\u001b[1;33m\u001b[0m\u001b[0m\n",
      "\u001b[1;31mNameError\u001b[0m: name 'getcwd' is not defined"
     ]
    }
   ],
   "source": [
    "import os\n",
    "getcwd()\n",
    "os.getcwd"
   ]
  },
  {
   "cell_type": "code",
   "execution_count": 2,
   "metadata": {},
   "outputs": [],
   "source": [
    "import datetime"
   ]
  },
  {
   "cell_type": "code",
   "execution_count": 3,
   "metadata": {},
   "outputs": [],
   "source": [
    "x= datetime.datetime.now()"
   ]
  },
  {
   "cell_type": "code",
   "execution_count": 4,
   "metadata": {},
   "outputs": [
    {
     "data": {
      "text/plain": [
       "datetime.datetime(2019, 11, 19, 17, 48, 52, 936218)"
      ]
     },
     "execution_count": 4,
     "metadata": {},
     "output_type": "execute_result"
    }
   ],
   "source": [
    "x"
   ]
  },
  {
   "cell_type": "code",
   "execution_count": 17,
   "metadata": {},
   "outputs": [
    {
     "name": "stdout",
     "output_type": "stream",
     "text": [
      "Enetr an alphabet: a\n"
     ]
    },
    {
     "ename": "NameError",
     "evalue": "name 'ch' is not defined",
     "output_type": "error",
     "traceback": [
      "\u001b[1;31m---------------------------------------------------------------------------\u001b[0m",
      "\u001b[1;31mNameError\u001b[0m                                 Traceback (most recent call last)",
      "\u001b[1;32m<ipython-input-17-0b59446d50dc>\u001b[0m in \u001b[0;36m<module>\u001b[1;34m\u001b[0m\n\u001b[0;32m      1\u001b[0m \u001b[0mletter\u001b[0m \u001b[1;33m=\u001b[0m \u001b[0minput\u001b[0m\u001b[1;33m(\u001b[0m\u001b[1;34m\"Enetr an alphabet: \"\u001b[0m\u001b[1;33m)\u001b[0m\u001b[1;33m\u001b[0m\u001b[1;33m\u001b[0m\u001b[0m\n\u001b[1;32m----> 2\u001b[1;33m \u001b[1;32mif\u001b[0m\u001b[1;33m(\u001b[0m\u001b[0mch\u001b[0m \u001b[1;33m==\u001b[0m \u001b[1;34m\"a\"\u001b[0m \u001b[1;32mor\u001b[0m \u001b[0mch\u001b[0m\u001b[1;33m==\u001b[0m\u001b[1;34m\"e\"\u001b[0m \u001b[1;32mor\u001b[0m \u001b[0mch\u001b[0m\u001b[1;33m==\u001b[0m\u001b[1;34m\"i\"\u001b[0m\u001b[1;32mor\u001b[0m \u001b[0mch\u001b[0m\u001b[1;33m==\u001b[0m \u001b[1;34m\"o\"\u001b[0m\u001b[1;32mor\u001b[0m \u001b[0mch\u001b[0m\u001b[1;33m==\u001b[0m \u001b[1;34m\"u\"\u001b[0m \u001b[1;32mor\u001b[0m \u001b[0mch\u001b[0m\u001b[1;33m==\u001b[0m\u001b[1;34m\"A\"\u001b[0m \u001b[1;32mor\u001b[0m \u001b[0mch\u001b[0m\u001b[1;33m==\u001b[0m \u001b[1;34m\"E\"\u001b[0m \u001b[1;32mor\u001b[0m \u001b[0mch\u001b[0m\u001b[1;33m==\u001b[0m\u001b[1;34m\"I\"\u001b[0m \u001b[1;32mor\u001b[0m \u001b[0mch\u001b[0m\u001b[1;33m==\u001b[0m \u001b[1;34m\"O\"\u001b[0m \u001b[1;32mor\u001b[0m \u001b[0mch\u001b[0m \u001b[1;33m==\u001b[0m \u001b[1;34m\"U\"\u001b[0m\u001b[1;33m)\u001b[0m\u001b[1;33m:\u001b[0m\u001b[1;33m\u001b[0m\u001b[1;33m\u001b[0m\u001b[0m\n\u001b[0m\u001b[0;32m      3\u001b[0m     \u001b[0mprint\u001b[0m\u001b[1;33m(\u001b[0m\u001b[0mletter\u001b[0m\u001b[1;33m,\u001b[0m \u001b[1;34m\"is a vowel\"\u001b[0m\u001b[1;33m)\u001b[0m\u001b[1;33m\u001b[0m\u001b[1;33m\u001b[0m\u001b[0m\n\u001b[0;32m      4\u001b[0m \u001b[1;32melse\u001b[0m\u001b[1;33m:\u001b[0m\u001b[1;33m\u001b[0m\u001b[1;33m\u001b[0m\u001b[0m\n\u001b[0;32m      5\u001b[0m     \u001b[0mprint\u001b[0m\u001b[1;33m(\u001b[0m\u001b[1;34m\"You enter a consonant \"\u001b[0m\u001b[1;33m,\u001b[0m \u001b[0mletter\u001b[0m\u001b[1;33m)\u001b[0m\u001b[1;33m\u001b[0m\u001b[1;33m\u001b[0m\u001b[0m\n",
      "\u001b[1;31mNameError\u001b[0m: name 'ch' is not defined"
     ]
    }
   ],
   "source": [
    "letter = str(input(\"Enetr an alphabet: \"))\n",
    "if(ch == \"a\" or ch==\"e\" or ch==\"i\"or ch== \"o\"or ch== \"u\" or ch==\"A\" or ch== \"E\" or ch==\"I\" or ch== \"O\" or ch == \"U\"):\n",
    "    print(letter, \"is a vowel\")\n",
    "else:\n",
    "    print(\"You enter a consonant \", letter)"
   ]
  },
  {
   "cell_type": "code",
   "execution_count": 28,
   "metadata": {},
   "outputs": [
    {
     "name": "stdout",
     "output_type": "stream",
     "text": [
      "Enter a character: gh\n",
      "error input, kindly refresh the memory and enter a new character\n"
     ]
    }
   ],
   "source": [
    "# taking user input\n",
    "ch = input(\"Enter a character: \")\n",
    "if len(ch) >1:\n",
    "    print(\"error input, kindly refresh the memory and enter a new character\")\n",
    "elif(ch=='A' or ch=='a' or ch=='E' or ch =='e' or ch=='I'\n",
    "        or ch=='i' or ch=='O' or ch=='o' or ch=='U' or ch=='u'):\n",
    "          print(ch, \"is a Vowel\")\n",
    "else:\n",
    "     print(ch, \"is a Consonant\")\n",
    "\n",
    "\n",
    "  \n",
    "\n",
    "   "
   ]
  },
  {
   "cell_type": "code",
   "execution_count": 31,
   "metadata": {},
   "outputs": [
    {
     "name": "stdout",
     "output_type": "stream",
     "text": [
      "enter the position :e4\n",
      "White\n"
     ]
    }
   ],
   "source": [
    "#Program to determine if a column is black or white by entering a number between 1 and 8 and letter, lower case between a to h\n",
    "\n",
    "position = input(\"enter the position :\")\n",
    "z = int(position[1])\n",
    "if (position [0] == 'a' or position [0] == 'b' or position [0] == 'e' or position [0] == 'g'):\n",
    "    if z%2 == 0:\n",
    "        print(\"White\")\n",
    "    else:\n",
    "        print(\"black\")\n",
    "else:\n",
    "    if(position [0] == 'b' or position [0] == 'd' or position [0] == 'f' or position [0] == 'h'):\n",
    "        if z %2 ==0:\n",
    "            print(\"black\")\n",
    "        else:\n",
    "            print(\"white\")\n",
    "               "
   ]
  },
  {
   "cell_type": "code",
   "execution_count": null,
   "metadata": {},
   "outputs": [],
   "source": [
    "4+4"
   ]
  },
  {
   "cell_type": "code",
   "execution_count": null,
   "metadata": {},
   "outputs": [],
   "source": []
  }
 ],
 "metadata": {
  "kernelspec": {
   "display_name": "Python 3",
   "language": "python",
   "name": "python3"
  },
  "language_info": {
   "codemirror_mode": {
    "name": "ipython",
    "version": 3
   },
   "file_extension": ".py",
   "mimetype": "text/x-python",
   "name": "python",
   "nbconvert_exporter": "python",
   "pygments_lexer": "ipython3",
   "version": "3.7.3"
  }
 },
 "nbformat": 4,
 "nbformat_minor": 2
}
