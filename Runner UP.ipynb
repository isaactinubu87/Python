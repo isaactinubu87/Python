{
 "cells": [
  {
   "cell_type": "code",
   "execution_count": 2,
   "metadata": {},
   "outputs": [
    {
     "name": "stdout",
     "output_type": "stream",
     "text": [
      "Please enter the Total Number of List Elements: 12\n",
      "Please enter the Value of 1 Element : 34\n",
      "Please enter the Value of 2 Element : 56\n",
      "Please enter the Value of 3 Element : 78\n",
      "Please enter the Value of 4 Element : 23\n",
      "Please enter the Value of 5 Element : 12\n",
      "Please enter the Value of 6 Element : 45\n",
      "Please enter the Value of 7 Element : 67\n",
      "Please enter the Value of 8 Element : 89\n",
      "Please enter the Value of 9 Element : 09\n",
      "Please enter the Value of 10 Element : 56\n",
      "Please enter the Value of 11 Element : 78\n",
      "Please enter the Value of 12 Element : 34\n",
      "Element After Sorting List in Ascending Order is :  [9, 12, 23, 34, 34, 45, 56, 56, 67, 78, 78, 89]\n",
      "Runner up is:  78\n",
      "While the least input digit is:  9\n"
     ]
    }
   ],
   "source": [
    "NumList = []\n",
    "\n",
    "Number = int(input(\"Please enter the Total Number of List Elements: \"))\n",
    "for i in range(1, Number + 1):\n",
    "    value = int(input(\"Please enter the Value of %d Element : \" %i))\n",
    "    NumList.append(value)\n",
    "\n",
    "NumList.sort()\n",
    "\n",
    "print(\"Element After Sorting List in Ascending Order is : \", NumList)\n",
    "print(\"Runner up is: \", NumList[Number-2])\n",
    "print(\"While the least input digit is: \", NumList[0])\n"
   ]
  },
  {
   "cell_type": "markdown",
   "metadata": {},
   "source": []
  }
 ],
 "metadata": {
  "kernelspec": {
   "display_name": "Python 3",
   "language": "python",
   "name": "python3"
  },
  "language_info": {
   "codemirror_mode": {
    "name": "ipython",
    "version": 3
   },
   "file_extension": ".py",
   "mimetype": "text/x-python",
   "name": "python",
   "nbconvert_exporter": "python",
   "pygments_lexer": "ipython3",
   "version": "3.7.3"
  }
 },
 "nbformat": 4,
 "nbformat_minor": 2
}
