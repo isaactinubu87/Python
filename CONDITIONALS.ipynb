{
 "cells": [
  {
   "cell_type": "code",
   "execution_count": null,
   "metadata": {},
   "outputs": [],
   "source": [
    "num1 = int(input(\"Enter a positive integer number: \"))\n",
    "if num1 < 1:\n",
    "    print(\"error\")\n",
    "\n",
    "elif num1 > 50:\n",
    "    print(\"This is over 50\")\n",
    "else:\n",
    "    print(\"This is not over 50\")"
   ]
  },
  {
   "cell_type": "code",
   "execution_count": null,
   "metadata": {},
   "outputs": [],
   "source": [
    "colour = str(input(\"Type in your favourite colour: \"))\n",
    "colour = colour.lower()\n",
    "if colour == 'red':\n",
    "    print ('Red is a favourite colour')\n",
    "else:\n",
    "    print(\"unspecified\")\n",
    "\n"
   ]
  },
  {
   "cell_type": "code",
   "execution_count": null,
   "metadata": {},
   "outputs": [],
   "source": [
    "name = str(input(\"Enter a name: \"))\n",
    "num =  str(input(\"Enter a number: \"))\n",
    "ID = name + num\n",
    "print(ID) "
   ]
  },
  {
   "cell_type": "markdown",
   "metadata": {},
   "source": [
    "## MULTIPLE LINE STRINGS"
   ]
  },
  {
   "cell_type": "code",
   "execution_count": null,
   "metadata": {},
   "outputs": [],
   "source": [
    "address = \"\"\"73 Owode Lane Oldtown \n",
    "Tallinn\n",
    "Estonia.\"\"\"\n",
    "\n",
    "print(address)"
   ]
  },
  {
   "cell_type": "code",
   "execution_count": null,
   "metadata": {},
   "outputs": [],
   "source": [
    "#Pig Latin takes the first consonant of a word,\n",
    "#moves it to the end of the word and adds on an\n",
    "#“ay”. If a word begins with a vowel you just add\n",
    "#“way” to the end. For example, pig becomes igpay,\n",
    "#banana becomes ananabay, and aadvark becomes\n",
    "#aadvarkway. Create a program that will ask the\n",
    "#user to enter a word and change it into Pig Latin.\n",
    "#Make sure the new word is displayed in lower case.\"\"\""
   ]
  },
  {
   "cell_type": "code",
   "execution_count": null,
   "metadata": {},
   "outputs": [],
   "source": [
    "word = input(\"Please enter a word: \")\n",
    "first = word[0]\n",
    "length = len(word)\n",
    "rest = word[1:length]\n",
    "if first != \"a\" and first !=\"e\" and first !=\"i\" and first !=\"o\" and first != \"u\":\n",
    "    newword = rest + first + \"ay\"\n",
    "else:\n",
    "    newword = word + \"way\"\n",
    "print(newword.lower())"
   ]
  },
  {
   "cell_type": "code",
   "execution_count": null,
   "metadata": {},
   "outputs": [],
   "source": [
    "name = str(input(\"Enter your name : \"))\n",
    "\n",
    "if len(name)< 5:\n",
    "    surname = input(\"Enter your surname : \")\n",
    "    name = name  + surname\n",
    "    print(name.upper())\n",
    "else:\n",
    "    print(name.lower())"
   ]
  },
  {
   "cell_type": "code",
   "execution_count": null,
   "metadata": {},
   "outputs": [],
   "source": [
    "num1 = int(input(\"Enter the numerator: \"))\n",
    "num2 = int(input(\"Enter the denominator: \")) \n",
    "whole = num1//num2\n",
    "remainder = num1 % num2\n",
    "print(num1, \"divided by\", num2, \"is\", whole, \"with\", remainder, \"remaining.\")"
   ]
  },
  {
   "cell_type": "code",
   "execution_count": null,
   "metadata": {},
   "outputs": [],
   "source": [
    "print(\"1) Square\")\n",
    "print(\"2) Triangle\")\n",
    "print()\n",
    "\n",
    "menuselection = int(input(\"Enter a number: \"))\n",
    "if menuselection ==1:\n",
    "    side = int(input(\"Enter the lenght of one side: \"))\n",
    "    area = side*side\n",
    "    print(\"The area of your chosen shape is\", area)\n",
    "elif menuselection ==2:\n",
    "    base = int(input(\"Enter the base of the triangle: \"))\n",
    "    height = int(input(\"Enter the height of the triangle: \"))\n",
    "    area = (base*height)/2\n",
    "    print(\"The area of your chosen shape is\", area, (\"sq. unit\"))\n",
    "else:\n",
    "    print(\"Incorrect Option selected\")"
   ]
  },
  {
   "cell_type": "markdown",
   "metadata": {},
   "source": []
  },
  {
   "cell_type": "markdown",
   "metadata": {},
   "source": [
    "## loop"
   ]
  },
  {
   "cell_type": "code",
   "execution_count": null,
   "metadata": {},
   "outputs": [],
   "source": [
    "for a in range(1,12):\n",
    "    print(a) "
   ]
  },
  {
   "cell_type": "code",
   "execution_count": null,
   "metadata": {},
   "outputs": [],
   "source": [
    "for a in range(1,12,2):\n",
    "    print(a)"
   ]
  },
  {
   "cell_type": "code",
   "execution_count": null,
   "metadata": {},
   "outputs": [],
   "source": [
    "for a in range(13,1,-3):\n",
    "    print(a)"
   ]
  },
  {
   "cell_type": "code",
   "execution_count": null,
   "metadata": {},
   "outputs": [],
   "source": [
    "word = \"correction\"\n",
    "for a in word:\n",
    "    print(a)"
   ]
  },
  {
   "cell_type": "code",
   "execution_count": null,
   "metadata": {},
   "outputs": [],
   "source": [
    "name = input(\"Type in your name: \")\n",
    "for i in range (0,3):\n",
    "    print(name)"
   ]
  },
  {
   "cell_type": "code",
   "execution_count": null,
   "metadata": {},
   "outputs": [],
   "source": [
    "num = int(input(\"Enter a number: \"))\n",
    "name = str(input(\"Enter your name: \"))\n",
    "for a in range(0, num):\n",
    "    for b in name:\n",
    "        print(b)"
   ]
  },
  {
   "cell_type": "code",
   "execution_count": null,
   "metadata": {},
   "outputs": [],
   "source": [
    "name = input(\"Type in your name: \")\n",
    "for i in range (0,3):\n",
    "    print(name)"
   ]
  },
  {
   "cell_type": "code",
   "execution_count": null,
   "metadata": {},
   "outputs": [],
   "source": [
    "num = int(input(\"Enter a number below 60: \"))\n",
    "for i in range(60, num-1, -1):\n",
    "    print(i)"
   ]
  },
  {
   "cell_type": "markdown",
   "metadata": {},
   "source": [
    "## While Loop\n"
   ]
  },
  {
   "cell_type": "code",
   "execution_count": null,
   "metadata": {},
   "outputs": [],
   "source": [
    "num = 10\n",
    "while num >0:\n",
    "    print(\"There are \", num, \"green bottles hanging on the wall.\")\n",
    "    print(num, \"gree bottles hanging on the wall.\")\n",
    "    print(\"And if 1 green bottle should accidentally fall,\")\n",
    "    num = num-1\n",
    "    answer = int(input(\"How many green bottles will be hanging on the wall?\"))\n",
    "    if answer ==num:\n",
    "        print(\"There will be\", num, \"green bottles hanging on the wall.\")\n",
    "    else:\n",
    "        while answer != num:\n",
    "            answer = int (input(\"No, try again:\"))\n",
    "    print(\"There are no more green bottles hanging on the wall.\")"
   ]
  },
  {
   "cell_type": "code",
   "execution_count": null,
   "metadata": {},
   "outputs": [],
   "source": [
    "#Using the song “10 green bottles”, display the lines “There are [num] green bottles\n",
    "#hanging on the wall, [num] green bottles hanging on the wall, and if 1 green bottle\n",
    "#should accidentally fall”. Then ask the question “how many green bottles will be\n",
    "#hanging on the wall?” If the user answers correctly, display the message “There will be\n",
    "#[num] green bottles hanging on the wall”. If they answer incorrectly, display the\n",
    "#message “No, try again” until they get it right. When the number of green bottles gets\n",
    "#down to 0, display the message “There are no more green bottles hanging on the wall”."
   ]
  },
  {
   "cell_type": "code",
   "execution_count": null,
   "metadata": {},
   "outputs": [],
   "source": [
    "'''num = random.random()\n",
    "Selects a random floating-point number between 0 and 1 and\n",
    "stores it in a variable called “num”. If you want to obtain a\n",
    "larger number, you can multiply it as shown below:\n",
    "import random\n",
    "num = random.random()\n",
    "num = num * 100\n",
    "print(num)'''"
   ]
  },
  {
   "cell_type": "code",
   "execution_count": 3,
   "metadata": {},
   "outputs": [
    {
     "name": "stdout",
     "output_type": "stream",
     "text": [
      "12.830256528227867\n"
     ]
    }
   ],
   "source": [
    "import random\n",
    "num = random.random() #a number between 0 and 1\n",
    "num = num*100\n",
    "print(num)"
   ]
  },
  {
   "cell_type": "code",
   "execution_count": 2,
   "metadata": {},
   "outputs": [
    {
     "name": "stdout",
     "output_type": "stream",
     "text": [
      "0.1573698774766088\n"
     ]
    }
   ],
   "source": [
    "import random\n",
    "a = random.random()\n",
    "print(a)"
   ]
  },
  {
   "cell_type": "code",
   "execution_count": 4,
   "metadata": {},
   "outputs": [
    {
     "name": "stdout",
     "output_type": "stream",
     "text": [
      "6\n"
     ]
    }
   ],
   "source": [
    "num = random.randint(0,9)\n",
    "print(num)#select whole number"
   ]
  },
  {
   "cell_type": "code",
   "execution_count": 5,
   "metadata": {},
   "outputs": [
    {
     "name": "stdout",
     "output_type": "stream",
     "text": [
      "1.189153439153439\n"
     ]
    }
   ],
   "source": [
    "num1 = random.randint(0,1000)\n",
    "num2 = random.randint(0,1000)\n",
    "newrand=num1/num2\n",
    "print(newrand)"
   ]
  },
  {
   "cell_type": "code",
   "execution_count": 7,
   "metadata": {},
   "outputs": [
    {
     "name": "stdout",
     "output_type": "stream",
     "text": [
      "black\n"
     ]
    }
   ],
   "source": [
    "colour = random.choice([\"red\", \"black\",\"green\"])\n",
    "print(colour)"
   ]
  },
  {
   "cell_type": "code",
   "execution_count": 8,
   "metadata": {},
   "outputs": [
    {
     "name": "stdout",
     "output_type": "stream",
     "text": [
      "409\n"
     ]
    }
   ],
   "source": [
    "import random\n",
    "num = random.randint(2,500)\n",
    "print(num)"
   ]
  },
  {
   "cell_type": "code",
   "execution_count": 11,
   "metadata": {},
   "outputs": [
    {
     "name": "stdout",
     "output_type": "stream",
     "text": [
      "banana\n"
     ]
    }
   ],
   "source": [
    "import random\n",
    "fruit = random.choice(['apple','orange','grape','banana','strawberry'])\n",
    "print(fruit)"
   ]
  },
  {
   "cell_type": "code",
   "execution_count": 13,
   "metadata": {},
   "outputs": [
    {
     "name": "stdout",
     "output_type": "stream",
     "text": [
      "Enter (h)eads or (t)ails: t\n",
      "You win\n",
      "It was tails\n"
     ]
    }
   ],
   "source": [
    "import random\n",
    "coin = random.choice(['h','t'])\n",
    "guess = input(\"Enter (h)eads or (t)ails: \")\n",
    "if guess ==coin:\n",
    "    print(\"You win\")\n",
    "else:\n",
    "    print(\"Bad luck\")\n",
    "if coin == \"h\":\n",
    "    print(\"It was heads\")\n",
    "else:\n",
    "    print(\"It was tails\")"
   ]
  },
  {
   "cell_type": "code",
   "execution_count": 3,
   "metadata": {},
   "outputs": [
    {
     "name": "stdout",
     "output_type": "stream",
     "text": [
      "Enter a number: 2\n",
      "Too high\n",
      "Guess again: 1\n",
      "correct\n"
     ]
    }
   ],
   "source": [
    "import random\n",
    "num = random.randint(1,5)\n",
    "guess =int(input(\"Enter a number: \"))\n",
    "if guess == num:\n",
    "    print(\"Well done\")\n",
    "elif guess > num:\n",
    "    print(\"Too high\")\n",
    "    guess = int(input(\"Guess again: \"))\n",
    "    if guess == num:\n",
    "        print(\"correct\")\n",
    "    else:\n",
    "        print(\"You lose\")\n",
    "elif guess < num:\n",
    "    print(\"Too low\")\n",
    "    guess = int(input(\"Guess again: \"))\n",
    "    if guess == num:\n",
    "        print(\"Correct\")\n",
    "    else:\n",
    "        print(\"You lose\")"
   ]
  },
  {
   "cell_type": "code",
   "execution_count": 4,
   "metadata": {},
   "outputs": [
    {
     "name": "stdout",
     "output_type": "stream",
     "text": [
      "Select from red, blue, green, white or pink\n",
      "Enter a colour: blue\n",
      "Shame you are not feeling in the PINK, as you got it wrong!\n",
      "Enter a colour: pink\n",
      "Well done\n"
     ]
    }
   ],
   "source": [
    "import random\n",
    "\n",
    "colour = random.choice([\"red\", \"blue\", \"green\", \"white\", \"pink\"])\n",
    "print(\"Select from red, blue, green, white or pink\")\n",
    "tryagain = True\n",
    "while tryagain == True:\n",
    "    theirchoice = input(\"Enter a colour: \")\n",
    "    theirchoice = theirchoice.lower()\n",
    "    if colour == theirchoice:\n",
    "        print(\"Well done\")\n",
    "        tryagain = False\n",
    "    else:\n",
    "        if colour == \"red\":\n",
    "            print(\"I bet you are seeing RED right now!\")\n",
    "        elif colour == \"blue\":\n",
    "            print(\"Don't feel BLUE.\")\n",
    "        elif colour == \"green\":\n",
    "            print(\"I bet you are GREEN with envy right now.\")\n",
    "        elif colour == \"white\":\n",
    "            print(\"Are you WHITE as a sheet, as you didn´t guess correctly?\")\n",
    "        elif colour == \"pink\":\n",
    "            print(\"Shame you are not feeling in the PINK, as you got it wrong!\")"
   ]
  },
  {
   "cell_type": "code",
   "execution_count": null,
   "metadata": {},
   "outputs": [],
   "source": []
  }
 ],
 "metadata": {
  "kernelspec": {
   "display_name": "Python 3",
   "language": "python",
   "name": "python3"
  },
  "language_info": {
   "codemirror_mode": {
    "name": "ipython",
    "version": 3
   },
   "file_extension": ".py",
   "mimetype": "text/x-python",
   "name": "python",
   "nbconvert_exporter": "python",
   "pygments_lexer": "ipython3",
   "version": "3.7.3"
  }
 },
 "nbformat": 4,
 "nbformat_minor": 2
}
