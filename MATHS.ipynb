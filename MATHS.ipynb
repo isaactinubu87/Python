{
 "cells": [
  {
   "cell_type": "code",
   "execution_count": 3,
   "metadata": {},
   "outputs": [
    {
     "name": "stdout",
     "output_type": "stream",
     "text": [
      "Enter a number over 500: 50\n",
      "Please enter another number but ensure it is greater than 500: \n"
     ]
    }
   ],
   "source": [
    "import math\n",
    "answer = 1\n",
    "num = int(input(\"Enter a number over 500: \"))\n",
    "if num < 500:\n",
    "    print(\"Please enter another number but ensure it is greater than 500: \")\n",
    "else:\n",
    "    answer = answer*math.sqrt(num)\n",
    "    print(round(answer, 2))\n"
   ]
  },
  {
   "cell_type": "code",
   "execution_count": 7,
   "metadata": {},
   "outputs": [
    {
     "name": "stdout",
     "output_type": "stream",
     "text": [
      "Enter the radius of the circle: 12\n",
      "Enetr depth: 15\n",
      "The volume is:  6785.84 sq. unit\n"
     ]
    }
   ],
   "source": [
    "import math\n",
    "radius = int(input(\"Enter the radius of the circle: \"))\n",
    "depth = int(input(\"Enetr depth: \"))\n",
    "area = math.pi*(radius**2)\n",
    "volume = area*depth\n",
    "print(\"The volume is: \", round(volume,3), \"sq. unit\")"
   ]
  },
  {
   "cell_type": "code",
   "execution_count": 9,
   "metadata": {},
   "outputs": [
    {
     "name": "stdout",
     "output_type": "stream",
     "text": [
      "Enter a number: 16\n",
      "Enter another number: 3\n",
      "16 divided by  3 is  5 with 1 remaining.\n"
     ]
    }
   ],
   "source": [
    "num1 = int(input(\"Enter a number: \"))\n",
    "num2 = int(input(\"Enter another number: \"))\n",
    "ans1 = num1//num2\n",
    "ans2 = num1%num2\n",
    "\n",
    "print(num1, \"divided by \", num2, \"is \", ans1, \"with\", ans2, \"remaining.\")"
   ]
  },
  {
   "cell_type": "markdown",
   "metadata": {},
   "source": [
    "## RANDOM"
   ]
  },
  {
   "cell_type": "code",
   "execution_count": 10,
   "metadata": {},
   "outputs": [
    {
     "name": "stdout",
     "output_type": "stream",
     "text": [
      "37 + 21 =\n",
      "Your answer: 8\n",
      "\n",
      "29 + 16 =\n",
      "Your answer: 89\n",
      "\n",
      "8 + 24 =\n",
      "Your answer: 45\n",
      "\n",
      "48 + 36 =\n",
      "Your answer: 67\n",
      "\n",
      "20 + 46 =\n",
      "Your answer: 83\n",
      "\n",
      "You scored 0 out of 5\n"
     ]
    }
   ],
   "source": [
    "import random\n",
    "score = 0\n",
    "for i in range(1,6):\n",
    "    num1 = random.randint(1,50)\n",
    "    num2 = random.randint(1,50)\n",
    "    correct = num1 + num2\n",
    "    print(num1, \"+\", num2, \"=\")\n",
    "    answer = int(input(\"Your answer: \"))\n",
    "    print()\n",
    "    if answer ==correct:\n",
    "        score = score +1\n",
    "print(\"You scored\", score, \"out of 5\")"
   ]
  },
  {
   "cell_type": "markdown",
   "metadata": {},
   "source": [
    "## MORE STRING MANIPULATION"
   ]
  },
  {
   "cell_type": "code",
   "execution_count": 13,
   "metadata": {},
   "outputs": [
    {
     "name": "stdout",
     "output_type": "stream",
     "text": [
      "OLUWADAMILARE is in upper case\n"
     ]
    }
   ],
   "source": [
    "msg = \"OLUWADAMILARE\"\n",
    "if msg.isupper():\n",
    "    print(msg, \"is in upper case\")\n",
    "else:\n",
    "    print(\"This is not in uppercase\")"
   ]
  },
  {
   "cell_type": "code",
   "execution_count": 19,
   "metadata": {},
   "outputs": [
    {
     "name": "stdout",
     "output_type": "stream",
     "text": [
      "O*L*U*W*A*D*A*M*I*L*A*R*E*"
     ]
    }
   ],
   "source": [
    "msg = \"OLUWADAMILARE\"\n",
    "for a in msg:\n",
    "    print(a, end=\"*\")\n"
   ]
  },
  {
   "cell_type": "code",
   "execution_count": 21,
   "metadata": {},
   "outputs": [
    {
     "name": "stdout",
     "output_type": "stream",
     "text": [
      "OLUWAGBEMIRO is in upper case\n"
     ]
    }
   ],
   "source": [
    "name = \"OLUWAGBEMIRO\"\n",
    "if name.islower():\n",
    "    print(name, \"is in lower case\")\n",
    "else:\n",
    "    print(name, \"is in upper case\")"
   ]
  },
  {
   "cell_type": "markdown",
   "metadata": {},
   "source": [
    "## NUMERIC ARRAYS"
   ]
  },
  {
   "cell_type": "code",
   "execution_count": 24,
   "metadata": {},
   "outputs": [
    {
     "name": "stdout",
     "output_type": "stream",
     "text": [
      "array('i', [45, 324, 56, 78, 45])\n"
     ]
    }
   ],
   "source": [
    "from array import *\n",
    "nums = array (\"i\", [45,324,56,78,45])\n",
    "print(nums)"
   ]
  },
  {
   "cell_type": "code",
   "execution_count": 25,
   "metadata": {},
   "outputs": [
    {
     "name": "stdout",
     "output_type": "stream",
     "text": [
      "Enter number: 67\n"
     ]
    }
   ],
   "source": [
    "newValue = int(input(\"Enter number: \"))\n",
    "nums.append(newValue)"
   ]
  },
  {
   "cell_type": "code",
   "execution_count": 26,
   "metadata": {},
   "outputs": [
    {
     "data": {
      "text/plain": [
       "array('i', [45, 324, 56, 78, 45, 67])"
      ]
     },
     "execution_count": 26,
     "metadata": {},
     "output_type": "execute_result"
    }
   ],
   "source": [
    "nums"
   ]
  },
  {
   "cell_type": "code",
   "execution_count": 29,
   "metadata": {},
   "outputs": [],
   "source": [
    "nums = sorted(nums) #Sort into ascending order"
   ]
  },
  {
   "cell_type": "code",
   "execution_count": 28,
   "metadata": {},
   "outputs": [
    {
     "data": {
      "text/plain": [
       "[45, 45, 56, 67, 78, 324]"
      ]
     },
     "execution_count": 28,
     "metadata": {},
     "output_type": "execute_result"
    }
   ],
   "source": [
    "nums"
   ]
  },
  {
   "cell_type": "code",
   "execution_count": 30,
   "metadata": {},
   "outputs": [
    {
     "data": {
      "text/plain": [
       "324"
      ]
     },
     "execution_count": 30,
     "metadata": {},
     "output_type": "execute_result"
    }
   ],
   "source": [
    "nums.pop()"
   ]
  },
  {
   "cell_type": "code",
   "execution_count": 31,
   "metadata": {},
   "outputs": [
    {
     "data": {
      "text/plain": [
       "[45, 45, 56, 67, 78]"
      ]
     },
     "execution_count": 31,
     "metadata": {},
     "output_type": "execute_result"
    }
   ],
   "source": [
    "nums"
   ]
  },
  {
   "cell_type": "code",
   "execution_count": 33,
   "metadata": {},
   "outputs": [
    {
     "name": "stdout",
     "output_type": "stream",
     "text": [
      "How many items: 6\n",
      "Enter num: 3\n",
      "Enter num: 56\n",
      "Enter num: 34\n",
      "Enter num: 6\n",
      "Enter num: 23\n",
      "Enter num: 45\n"
     ]
    }
   ],
   "source": [
    "newArray = array('i', [])                     #Create a blank array called \"newArray\" which uses the integer data type. It asks the \n",
    "more = int(input(\"How many items: \"))       #user how many items they want to add and then appends these new items to newArray. Atfer all the items\n",
    "for y in range(0, more):                    #have been added it will join together the contents of newArrays and the nums array.\n",
    "    newValue =int(input(\"Enter num: \"))\n",
    "    newArray.append(newValue)\n",
    "nums.extend(newArray)"
   ]
  },
  {
   "cell_type": "code",
   "execution_count": 34,
   "metadata": {},
   "outputs": [
    {
     "data": {
      "text/plain": [
       "array('i', [3, 56, 34, 6, 23, 45])"
      ]
     },
     "execution_count": 34,
     "metadata": {},
     "output_type": "execute_result"
    }
   ],
   "source": [
    "newArray"
   ]
  },
  {
   "cell_type": "code",
   "execution_count": 37,
   "metadata": {},
   "outputs": [],
   "source": [
    "newArray = sorted(newArray)"
   ]
  },
  {
   "cell_type": "code",
   "execution_count": 38,
   "metadata": {},
   "outputs": [
    {
     "data": {
      "text/plain": [
       "[3, 6, 23, 34, 45, 56]"
      ]
     },
     "execution_count": 38,
     "metadata": {},
     "output_type": "execute_result"
    }
   ],
   "source": [
    "newArray"
   ]
  },
  {
   "cell_type": "code",
   "execution_count": null,
   "metadata": {},
   "outputs": [],
   "source": []
  }
 ],
 "metadata": {
  "kernelspec": {
   "display_name": "Python 3",
   "language": "python",
   "name": "python3"
  },
  "language_info": {
   "codemirror_mode": {
    "name": "ipython",
    "version": 3
   },
   "file_extension": ".py",
   "mimetype": "text/x-python",
   "name": "python",
   "nbconvert_exporter": "python",
   "pygments_lexer": "ipython3",
   "version": "3.7.3"
  }
 },
 "nbformat": 4,
 "nbformat_minor": 2
}
