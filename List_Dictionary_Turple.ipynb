{
 "cells": [
  {
   "cell_type": "code",
   "execution_count": 5,
   "metadata": {},
   "outputs": [
    {
     "name": "stdout",
     "output_type": "stream",
     "text": [
      "Enter your first name: Oluwabamigbe\n",
      "Enter your surname: Anuoluwaposimi\n",
      "27\n"
     ]
    }
   ],
   "source": [
    "firstName = str(input(\"Enter your first name: \"))\n",
    "surName = str(input(\"Enter your surname: \"))\n",
    "name = firstName + \" \" + surName\n",
    "length = len(name)\n",
    "print(length)"
   ]
  },
  {
   "cell_type": "code",
   "execution_count": null,
   "metadata": {},
   "outputs": [],
   "source": [
    "firstName = str(input(\"Enter your first name in lowercase: \"))\n",
    "surName = str(input(\"Enter your surname in lowercase: \"))\n",
    "firstName = firstName.title()\n",
    "surName = surName.title()\n",
    "name = firstName + \" \" + surName\n",
    "print(name)"
   ]
  },
  {
   "cell_type": "code",
   "execution_count": 9,
   "metadata": {},
   "outputs": [
    {
     "name": "stdout",
     "output_type": "stream",
     "text": [
      "Enter a number over 2000: 1200\n",
      "34.64\n"
     ]
    }
   ],
   "source": [
    "import math\n",
    "num =int(input(\"Enter a number over 2000: \"))\n",
    "answer = math.sqrt(num)\n",
    "print(round(answer,2))"
   ]
  },
  {
   "cell_type": "code",
   "execution_count": 10,
   "metadata": {},
   "outputs": [
    {
     "name": "stdout",
     "output_type": "stream",
     "text": [
      "3.14159\n"
     ]
    }
   ],
   "source": [
    "import math\n",
    "print(round(math.pi, 5))"
   ]
  },
  {
   "cell_type": "markdown",
   "metadata": {},
   "source": [
    "## Turtle"
   ]
  },
  {
   "cell_type": "code",
   "execution_count": null,
   "metadata": {},
   "outputs": [],
   "source": [
    "import turtle\n",
    "turtle.shape(\"turtle\")\n",
    "\n",
    "for i in range(0,5):\n",
    "    turtle.forward(100)\n",
    "    turtle.right(72)\n",
    "turtle.exitonclick()\n"
   ]
  },
  {
   "cell_type": "markdown",
   "metadata": {},
   "source": [
    "import turtle\n",
    "my_turtle = turtle.Turtle\n"
   ]
  },
  {
   "cell_type": "markdown",
   "metadata": {},
   "source": [
    "## list, turple and dictionary"
   ]
  },
  {
   "cell_type": "code",
   "execution_count": 4,
   "metadata": {},
   "outputs": [
    {
     "name": "stdout",
     "output_type": "stream",
     "text": [
      "Enter a name of somebody you want to invite to your party: Dare\n",
      "Enter another name : Mercy\n",
      "Enter another name : Shade\n",
      "Do you want to invite another (y/n):y\n",
      "Enter another name: Glory\n",
      "Do you want to invite another (y/n): y\n",
      "Enter another name: God'swill\n",
      "Do you want to invite another (y/n): n\n",
      "You have 5 people coming to your party\n",
      "['Dare', 'Mercy', 'Shade', 'Glory', \"God'swill\"]\n",
      "Enter one of the name: Mercy\n",
      "Mercy is in position 1 on the list\n",
      "Do you still want them to come (y/n): n\n",
      "['Dare', 'Shade', 'Glory', \"God'swill\"]\n"
     ]
    }
   ],
   "source": [
    "# This program will take three names from the user to be invited to a party and store them in a lsit.\n",
    "# After they have entered all the three names, and ask if they want to add another. If they do, allow them to add more names until they\n",
    "#they answer no. When they answer \"no\", display how many people they have invited to the party\n",
    "\n",
    "name1 = input(\"Enter a name of somebody you want to invite to your party: \")\n",
    "name2 = input(\"Enter another name : \")\n",
    "name3 = input(\"Enter another name : \")\n",
    "\n",
    "party = [name1, name2, name3]\n",
    "another =input(\"Do you want to invite another (y/n):\")\n",
    "while another ==\"y\":\n",
    "    newname = party.append(input(\"Enter another name: \"))\n",
    "    another =input(\"Do you want to invite another (y/n): \")\n",
    "print(\"You have\", len(party), \"people coming to your party\")\n",
    "print(party)\n",
    "\n",
    "selection = input(\"Enter one of the name: \")\n",
    "print(selection, \"is in position\", party.index(selection), \"on the list\")\n",
    "stillcome =input(\"Do you still want them to come (y/n): \")\n",
    "if stillcome == \"n\":\n",
    "      party.remove(selection)\n",
    "print(party)              "
   ]
  },
  {
   "cell_type": "code",
   "execution_count": 9,
   "metadata": {},
   "outputs": [
    {
     "name": "stdout",
     "output_type": "stream",
     "text": [
      "Enter a food you like: yam\n",
      "Enter another food you fufu\n",
      "Enter a third food you iyan\n",
      "Enter fouth food you eba\n",
      "{0: 'yam', 1: 'fufu', 2: 'iyan', 3: 'eba'}\n",
      "Which of these do you want to get rid of ? 1\n",
      "['eba', 'iyan', 'yam']\n"
     ]
    }
   ],
   "source": [
    "#Dictionary\n",
    "\n",
    "food_dictionary = {}\n",
    "food1 = input(\"Enter a food you like: \")\n",
    "food_dictionary[0] =food1\n",
    "food2 = input(\"Enter another food you \")\n",
    "food_dictionary[1] =food2\n",
    "food3 = input(\"Enter a third food you \")\n",
    "food_dictionary[2] =food3\n",
    "food4 = input(\"Enter fouth food you \")\n",
    "food_dictionary[3] =food4\n",
    "print(food_dictionary)\n",
    "\n",
    "dislike = int(input(\"Which of these do you want to get rid of ? \"))\n",
    "del food_dictionary[dislike]\n",
    "print(sorted(food_dictionary.values()))\n"
   ]
  },
  {
   "cell_type": "code",
   "execution_count": 13,
   "metadata": {},
   "outputs": [
    {
     "name": "stdout",
     "output_type": "stream",
     "text": [
      "('France', 'England', 'Spain', 'Germany', 'Australia')\n",
      "\n",
      "Please enter one of the country from above: England\n",
      "England has index number 1\n",
      "\n",
      "Enter a number between 0 and 4:2\n",
      "Spain\n"
     ]
    }
   ],
   "source": [
    "country_turple = (\"France\", \"England\",\"Spain\",\"Germany\", \"Australia\")\n",
    "print(country_turple)\n",
    "print()\n",
    "country =str(input(\"Please enter one of the country from above: \"))\n",
    "print(country, \"has index number\", country_turple.index(country))\n",
    "print()\n",
    "\n",
    "num = int(input(\"Enter a number between 0 and 4:\"))\n",
    "print(country_turple[num])"
   ]
  },
  {
   "cell_type": "code",
   "execution_count": 14,
   "metadata": {},
   "outputs": [
    {
     "name": "stdout",
     "output_type": "stream",
     "text": [
      "Task Master\n",
      "Top Gear\n",
      "The Big Bang Theory\n",
      "How I met Your mother\n",
      "\n",
      "Enter another TV show: Top Gear\n",
      "Enter a number between 0 and 3:2\n",
      "Task Master\n",
      "Top Gear\n",
      "Top Gear\n",
      "The Big Bang Theory\n",
      "How I met Your mother\n"
     ]
    }
   ],
   "source": [
    "tv = [\"Task Master\", \"Top Gear\", \"The Big Bang Theory\", \"How I met Your mother\"]\n",
    "for i in tv:\n",
    "    print(i)\n",
    "print()\n",
    "newtv = input(\"Enter another TV show: \")\n",
    "position =int(input(\"Enter a number between 0 and 3:\"))\n",
    "tv.insert(position, newtv)\n",
    "for i in tv:\n",
    "    print(i)"
   ]
  },
  {
   "cell_type": "markdown",
   "metadata": {},
   "source": [
    "## String Manipulation"
   ]
  },
  {
   "cell_type": "code",
   "execution_count": 17,
   "metadata": {},
   "outputs": [
    {
     "name": "stdout",
     "output_type": "stream",
     "text": [
      "Uppercase\n"
     ]
    }
   ],
   "source": [
    "msg = \"GO TO THE MARKET\"\n",
    "if msg.isupper():\n",
    "    print(\"Uppercase\")\n",
    "else:\n",
    "    print(\"This is not in uppercase\")"
   ]
  },
  {
   "cell_type": "code",
   "execution_count": 18,
   "metadata": {},
   "outputs": [],
   "source": [
    "#instead of msg.isupper, we can use msg.islower()\n"
   ]
  },
  {
   "cell_type": "code",
   "execution_count": 19,
   "metadata": {},
   "outputs": [
    {
     "name": "stdout",
     "output_type": "stream",
     "text": [
      "O*L*U*W*A*D*A*M*I*L*A*R*E*"
     ]
    }
   ],
   "source": [
    "msg = \"OLUWADAMILARE\"\n",
    "for letter in msg:\n",
    "    print(letter, end=\"*\")"
   ]
  },
  {
   "cell_type": "code",
   "execution_count": 21,
   "metadata": {},
   "outputs": [
    {
     "name": "stdout",
     "output_type": "stream",
     "text": [
      "Enter a word: Graver\n",
      "r\n",
      "e\n",
      "v\n",
      "a\n",
      "r\n",
      "G\n"
     ]
    }
   ],
   "source": [
    "#Ask the user to type in a word and then display it backwards on separate lines. For instance, if they type in \"Hello\" it should display\n",
    "\n",
    "word =str(input(\"Enter a word: \"))\n",
    "length =len(word)\n",
    "num =1\n",
    "for x in word:\n",
    "    position = length - num\n",
    "    letter = word[position]\n",
    "    print(letter)\n",
    "    num = num +1"
   ]
  },
  {
   "cell_type": "code",
   "execution_count": null,
   "metadata": {},
   "outputs": [],
   "source": []
  }
 ],
 "metadata": {
  "kernelspec": {
   "display_name": "Python 3",
   "language": "python",
   "name": "python3"
  }
 },
 "nbformat": 4,
 "nbformat_minor": 2
}
