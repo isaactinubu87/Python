{
 "cells": [
  {
   "cell_type": "code",
   "execution_count": 5,
   "metadata": {},
   "outputs": [
    {
     "name": "stdout",
     "output_type": "stream",
     "text": [
      "Enter a positive integer number: 56\n",
      "This is over 50\n"
     ]
    }
   ],
   "source": []
  },
  {
   "cell_type": "code",
   "execution_count": null,
   "metadata": {},
   "outputs": [],
   "source": [
    "colour = str(input(\"Type in your favourite colour: \"))\n",
    "if colour ==\"red\" or colour == \"RED\" or colour ==\"Red\":\n",
    "    print(\"I like red too.\")\n",
    "#elif colour ==\"yellow \" or colour == \"YELLOW\" or colour == \"Yellow\":\n",
    "#    print(\"I think yellow is a good colour too\")\n",
    "#elif colour ==\"green \" or colour == \"GREEN\" or colour == \"Green\":\n",
    "#    print(\"Wow! It is green\")\n",
    "#elif colour ==\"blue \" or colour == \"BLUE\" or colour == \"Blue\":\n",
    "#    print(\"Up blue\")\n",
    "#else:\n",
    " #   print(\"out of specification\")"
   ]
  },
  {
   "cell_type": "code",
   "execution_count": null,
   "metadata": {},
   "outputs": [],
   "source": [
    "raining = input(\"Is it raining\")\n",
    "raining = str.lower(raining)\n",
    "if raining ==\"yes\":\n",
    "    windy = input(\"Is it windy?\")\n",
    "    windy = str.lower(windy)\n",
    "    if windy == \"yes\":\n",
    "        print(\"It is too windy for an um\")\n",
    "        "
   ]
  },
  {
   "cell_type": "code",
   "execution_count": 1,
   "metadata": {},
   "outputs": [
    {
     "name": "stdout",
     "output_type": "stream",
     "text": [
      "True\n",
      "False\n"
     ]
    }
   ],
   "source": [
    "# Python code for implementation of isupper() \n",
    "  \n",
    "# checking for uppercase characters \n",
    "string = 'GEEKSFORGEEKS'\n",
    "print(string.isupper()) \n",
    "  \n",
    "string = 'GeeksforGeeks'\n",
    "print(string.isupper()) "
   ]
  },
  {
   "cell_type": "code",
   "execution_count": 2,
   "metadata": {},
   "outputs": [
    {
     "name": "stdout",
     "output_type": "stream",
     "text": [
      "False\n"
     ]
    }
   ],
   "source": [
    "string = 'GeeksforGeeks'\n",
    "print(string.islower()) "
   ]
  },
  {
   "cell_type": "code",
   "execution_count": 3,
   "metadata": {},
   "outputs": [],
   "source": [
    "convertToLower = string.lower()"
   ]
  },
  {
   "cell_type": "code",
   "execution_count": 4,
   "metadata": {},
   "outputs": [
    {
     "data": {
      "text/plain": [
       "'geeksforgeeks'"
      ]
     },
     "execution_count": 4,
     "metadata": {},
     "output_type": "execute_result"
    }
   ],
   "source": [
    "convertToLower"
   ]
  },
  {
   "cell_type": "code",
   "execution_count": 7,
   "metadata": {},
   "outputs": [
    {
     "name": "stdout",
     "output_type": "stream",
     "text": [
      "True\n"
     ]
    }
   ],
   "source": [
    "print(convertToLower.islower())"
   ]
  },
  {
   "cell_type": "code",
   "execution_count": null,
   "metadata": {},
   "outputs": [],
   "source": []
  }
 ],
 "metadata": {
  "kernelspec": {
   "display_name": "Python 3",
   "language": "python",
   "name": "python3"
  },
  "language_info": {
   "codemirror_mode": {
    "name": "ipython",
    "version": 3
   },
   "file_extension": ".py",
   "mimetype": "text/x-python",
   "name": "python",
   "nbconvert_exporter": "python",
   "pygments_lexer": "ipython3",
   "version": "3.7.3"
  }
 },
 "nbformat": 4,
 "nbformat_minor": 2
}
