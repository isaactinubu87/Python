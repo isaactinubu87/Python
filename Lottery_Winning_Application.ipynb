{
 "cells": [
  {
   "cell_type": "code",
   "execution_count": 10,
   "metadata": {},
   "outputs": [
    {
     "name": "stdout",
     "output_type": "stream",
     "text": [
      "Enter your 6 numbers, separated by commas: 4,14,13,16,7,15\n",
      "You matched set() and You won $1\n"
     ]
    }
   ],
   "source": [
    "#1User can pick 6 numbers\n",
    "\n",
    "#3Then we match the user numbers to the lottery numbers\n",
    "#4Calculte the winnings based on how many numbers the user matched\n",
    "import random\n",
    "\n",
    "def menu():\n",
    "    #Ask player for numbers\n",
    "    user_numbers = get_player_numbers()\n",
    "    \n",
    "    #Calculate lottery numbers\n",
    "    lottery_numbers = create_lottery_numbers()\n",
    "    \n",
    "    #Print out the winnings\n",
    "    matched_numbers = user_numbers.intersection(lottery_numbers)\n",
    "    print(\"You matched {} and You won ${}\".format(matched_numbers, 100 ** len(matched_numbers)))\n",
    "\n",
    "def get_player_numbers():\n",
    "    number_csv = input(\"Enter your 6 numbers, separated by commas: \") #comma separated values\n",
    "    #now I want to create a set of integers from this number_csv\n",
    "    number_list = number_csv.split(\" , \") #['1', '2', '3']\n",
    "    integer_set = {number for number in number_list}\n",
    "    return integer_set\n",
    "#2Lottery calculates 6 randoms numbers(btw 1 and 20)\n",
    "\n",
    "def create_lottery_numbers():\n",
    "    values =set() #initialisation\n",
    "    #for i in range(6): #being a set, a number could be generated twice\n",
    "    while len(values) < 6:\n",
    "        values.add(random.randint(1,20))\n",
    "    return values\n",
    "        \n",
    "\n",
    "menu()"
   ]
  },
  {
   "cell_type": "code",
   "execution_count": 6,
   "metadata": {},
   "outputs": [],
   "source": [
    "#2"
   ]
  },
  {
   "cell_type": "code",
   "execution_count": null,
   "metadata": {},
   "outputs": [],
   "source": []
  }
 ],
 "metadata": {
  "kernelspec": {
   "display_name": "Python 3",
   "language": "python",
   "name": "python3"
  },
  "language_info": {
   "codemirror_mode": {
    "name": "ipython",
    "version": 3
   },
   "file_extension": ".py",
   "mimetype": "text/x-python",
   "name": "python",
   "nbconvert_exporter": "python",
   "pygments_lexer": "ipython3",
   "version": "3.7.4"
  }
 },
 "nbformat": 4,
 "nbformat_minor": 2
}
