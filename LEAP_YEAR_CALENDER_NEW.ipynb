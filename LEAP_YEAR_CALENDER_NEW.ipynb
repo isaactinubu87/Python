{
 "cells": [
  {
   "cell_type": "code",
   "execution_count": 15,
   "metadata": {},
   "outputs": [
    {
     "name": "stdout",
     "output_type": "stream",
     "text": [
      "1992\n",
      "Is it a leap year? ,True\n"
     ]
    }
   ],
   "source": [
    "def is_leap(year):\n",
    "    \n",
    "    if(year %4) == 0:\n",
    "        return True\n",
    "    if year % 100 == 0 and year % 400:\n",
    "        return True\n",
    "    else:\n",
    "        return False\n",
    " \n",
    "   \n",
    "\n",
    "\n",
    "year = int(input())\n",
    "print(\"Is it a leap year? ,{}\".format(is_leap(year)))"
   ]
  },
  {
   "cell_type": "code",
   "execution_count": null,
   "metadata": {},
   "outputs": [],
   "source": []
  }
 ],
 "metadata": {
  "kernelspec": {
   "display_name": "Python 3",
   "language": "python",
   "name": "python3"
  },
  "language_info": {
   "codemirror_mode": {
    "name": "ipython",
    "version": 3
   },
   "file_extension": ".py",
   "mimetype": "text/x-python",
   "name": "python",
   "nbconvert_exporter": "python",
   "pygments_lexer": "ipython3",
   "version": "3.7.3"
  }
 },
 "nbformat": 4,
 "nbformat_minor": 2
}
