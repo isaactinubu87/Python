{
 "cells": [
  {
   "cell_type": "code",
   "execution_count": 2,
   "metadata": {},
   "outputs": [
    {
     "name": "stdout",
     "output_type": "stream",
     "text": [
      "This is attempt 0 \n",
      "Enter a number between 0 and 10: 5\n",
      "you didn't quite get it.\n",
      "This is attempt 1 \n",
      "Enter a number between 0 and 10: 8\n",
      "You got the number right!\n",
      "This is attempt 2 \n",
      "Enter a number between 0 and 10: 6\n",
      "you didn't quite get it.\n"
     ]
    }
   ],
   "source": [
    "import random\n",
    "\n",
    "magic_numbers =[random.randint(0,10), random.randint(0,10)]\n",
    "chances = 3\n",
    "\n",
    "for attempt in range(chances): \n",
    "    print(\"This is attempt {} \".format(attempt))\n",
    "    user_number = int(input(\"Enter a number between 0 and 10: \"))\n",
    "    if user_number in magic_numbers:\n",
    "        print(\"You got the number right!\")\n",
    "    if user_number not in magic_numbers:\n",
    "        print(\"you didn't quite get it.\")"
   ]
  },
  {
   "cell_type": "code",
   "execution_count": 3,
   "metadata": {},
   "outputs": [
    {
     "name": "stdout",
     "output_type": "stream",
     "text": [
      "This is attempt 0 \n",
      "Enter a number between 0 and 10: 2\n",
      "you didn't quite get it.\n",
      "This is attempt 1 \n",
      "Enter a number between 0 and 10: 6\n",
      "you didn't quite get it.\n",
      "This is attempt 2 \n",
      "Enter a number between 0 and 10: 9\n",
      "you didn't quite get it.\n"
     ]
    }
   ],
   "source": [
    "import random\n",
    "\n",
    "def ask_user_ask_check_number():\n",
    "    user_number = int(input(\"Enter a number between 0 and 10: \"))\n",
    "    if user_number in magic_numbers:\n",
    "        print(\"You got the number right!\")\n",
    "    if user_number not in magic_numbers:\n",
    "        print(\"you didn't quite get it.\")\n",
    "\n",
    "magic_numbers =[random.randint(0,10), random.randint(0,10)]\n",
    "chances = 3\n",
    "\n",
    "for attempt in range(chances): \n",
    "    print(\"This is attempt {} \".format(attempt))\n",
    "    ask_user_ask_check_number()\n",
    "    \n",
    "    "
   ]
  },
  {
   "cell_type": "markdown",
   "metadata": {},
   "source": [
    "## split() method"
   ]
  },
  {
   "cell_type": "code",
   "execution_count": 4,
   "metadata": {},
   "outputs": [],
   "source": [
    "numbers = \"5,12,34,56,4,78\""
   ]
  },
  {
   "cell_type": "code",
   "execution_count": 5,
   "metadata": {},
   "outputs": [
    {
     "data": {
      "text/plain": [
       "'5,12,34,56,4,78'"
      ]
     },
     "execution_count": 5,
     "metadata": {},
     "output_type": "execute_result"
    }
   ],
   "source": [
    "numbers"
   ]
  },
  {
   "cell_type": "code",
   "execution_count": 6,
   "metadata": {},
   "outputs": [
    {
     "data": {
      "text/plain": [
       "['5,12,34,56,4,78']"
      ]
     },
     "execution_count": 6,
     "metadata": {},
     "output_type": "execute_result"
    }
   ],
   "source": [
    "numbers.split()"
   ]
  },
  {
   "cell_type": "code",
   "execution_count": 7,
   "metadata": {},
   "outputs": [
    {
     "data": {
      "text/plain": [
       "['5', '12', '34', '56', '4', '78']"
      ]
     },
     "execution_count": 7,
     "metadata": {},
     "output_type": "execute_result"
    }
   ],
   "source": [
    "numbers.split(\",\")"
   ]
  },
  {
   "cell_type": "code",
   "execution_count": 11,
   "metadata": {},
   "outputs": [
    {
     "name": "stdout",
     "output_type": "stream",
     "text": [
      "Enter your number separated by commas: 4,67,98,47,90,87\n"
     ]
    }
   ],
   "source": [
    "user = input(\"Enter your number separated by commas: \")"
   ]
  },
  {
   "cell_type": "code",
   "execution_count": 12,
   "metadata": {},
   "outputs": [
    {
     "data": {
      "text/plain": [
       "['4', '67', '98', '47', '90', '87']"
      ]
     },
     "execution_count": 12,
     "metadata": {},
     "output_type": "execute_result"
    }
   ],
   "source": [
    "user.split(\",\")"
   ]
  },
  {
   "cell_type": "code",
   "execution_count": 15,
   "metadata": {},
   "outputs": [],
   "source": [
    "#convert string to number\n",
    "\n",
    "user_number_as_int = []\n",
    "for number in user:\n",
    "    user_number_as_int.append(number)"
   ]
  },
  {
   "cell_type": "code",
   "execution_count": null,
   "metadata": {},
   "outputs": [],
   "source": []
  },
  {
   "cell_type": "code",
   "execution_count": 16,
   "metadata": {},
   "outputs": [
    {
     "data": {
      "text/plain": [
       "['4',\n",
       " ',',\n",
       " '6',\n",
       " '7',\n",
       " ',',\n",
       " '9',\n",
       " '8',\n",
       " ',',\n",
       " '4',\n",
       " '7',\n",
       " ',',\n",
       " '9',\n",
       " '0',\n",
       " ',',\n",
       " '8',\n",
       " '7']"
      ]
     },
     "execution_count": 16,
     "metadata": {},
     "output_type": "execute_result"
    }
   ],
   "source": [
    "user_number_as_int"
   ]
  },
  {
   "cell_type": "code",
   "execution_count": null,
   "metadata": {},
   "outputs": [],
   "source": []
  }
 ],
 "metadata": {
  "kernelspec": {
   "display_name": "Python 3",
   "language": "python",
   "name": "python3"
  },
  "language_info": {
   "codemirror_mode": {
    "name": "ipython",
    "version": 3
   },
   "file_extension": ".py",
   "mimetype": "text/x-python",
   "name": "python",
   "nbconvert_exporter": "python",
   "pygments_lexer": "ipython3",
   "version": "3.7.4"
  }
 },
 "nbformat": 4,
 "nbformat_minor": 2
}
